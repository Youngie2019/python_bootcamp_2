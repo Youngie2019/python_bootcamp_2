{
  "nbformat": 4,
  "nbformat_minor": 0,
  "metadata": {
    "colab": {
      "name": "Week_One.ipynb",
      "provenance": [],
      "collapsed_sections": [],
      "authorship_tag": "ABX9TyNmbV1kF617Jqx2yMjWqAG3",
      "include_colab_link": true
    },
    "kernelspec": {
      "name": "python3",
      "display_name": "Python 3"
    },
    "language_info": {
      "name": "python"
    }
  },
  "cells": [
    {
      "cell_type": "markdown",
      "metadata": {
        "id": "view-in-github",
        "colab_type": "text"
      },
      "source": [
        "<a href=\"https://colab.research.google.com/github/Youngie2019/python_bootcamp_2/blob/main/Week_One.ipynb\" target=\"_parent\"><img src=\"https://colab.research.google.com/assets/colab-badge.svg\" alt=\"Open In Colab\"/></a>"
      ]
    },
    {
      "cell_type": "code",
      "metadata": {
        "colab": {
          "base_uri": "https://localhost:8080/"
        },
        "id": "S0Z0ngEHk4xU",
        "outputId": "bb61cb7f-6fe0-4c52-8807-d3813a44608d"
      },
      "source": [
        "import requests\n",
        "\n",
        "response = requests.get('https://uselessfacts.jsph.pl/random.json?language=en')\n",
        "print(response.text)"
      ],
      "execution_count": null,
      "outputs": [
        {
          "output_type": "stream",
          "name": "stdout",
          "text": [
            "{\"id\":\"23509fa6-d050-4ab0-b620-16a419bdaa0b\",\"text\":\"In eighteenth-century English gambling dens, there was an employee whose only job was to swallow the dice if there was a police raid.\",\"source\":\"djtech.net\",\"source_url\":\"http:\\/\\/www.djtech.net\\/humor\\/useless_facts.htm\",\"language\":\"en\",\"permalink\":\"https:\\/\\/uselessfacts.jsph.pl\\/23509fa6-d050-4ab0-b620-16a419bdaa0b\"}\n"
          ]
        }
      ]
    },
    {
      "cell_type": "code",
      "metadata": {
        "colab": {
          "base_uri": "https://localhost:8080/"
        },
        "id": "Gpd8Hr4-oGpk",
        "outputId": "7643f678-7ca5-4404-bec1-be9152a1b319"
      },
      "source": [
        "params={\n",
        "    'language' : 'en'\n",
        "}\n",
        "\n",
        "response = requests.get('https://uselessfacts.jsph.pl/random.json', params=params)\n",
        "print(response.json().get('text'))"
      ],
      "execution_count": null,
      "outputs": [
        {
          "output_type": "stream",
          "name": "stdout",
          "text": [
            "The first automobile race ever seen in the United States was held in Chicago in 1895. The track ran from Chicago to Evanston, Illinois. The winner was J. Frank Duryea, whose average speed was 71/2 miles per hour.\n"
          ]
        }
      ]
    },
    {
      "cell_type": "markdown",
      "metadata": {
        "id": "fd53LX24tV24"
      },
      "source": [
        "# Data Structures\n",
        "The important ones are **list**, **dictionaries** and **sets**."
      ]
    },
    {
      "cell_type": "markdown",
      "metadata": {
        "id": "p83s4I0RuQhd"
      },
      "source": [
        "***Lists***\n",
        "\n",
        "No type restrictions so can contain string, Int, lists etc\n"
      ]
    },
    {
      "cell_type": "code",
      "metadata": {
        "colab": {
          "base_uri": "https://localhost:8080/"
        },
        "id": "-4DZDqfgssvh",
        "outputId": "a88c8640-d838-462b-e0b7-3b2cedf154ca"
      },
      "source": [
        "data = ['Chris', 'Emma', 'Harry']\n",
        "print(data)\n",
        "print(data[2])\n",
        "\n",
        "data.append('Thomas')b\n",
        "data.append(['Hello'])\n",
        "data.append(5)\n",
        "\n",
        "print(data)"
      ],
      "execution_count": null,
      "outputs": [
        {
          "output_type": "stream",
          "name": "stdout",
          "text": [
            "['Chris', 'Emma', 'Harry']\n",
            "Harry\n",
            "['Chris', 'Emma', 'Harry', 'Thomas', ['Hello'], 5]\n"
          ]
        }
      ]
    },
    {
      "cell_type": "markdown",
      "metadata": {
        "id": "4BUsG9Z_76Gy"
      },
      "source": [
        "Print a range of list elements:\n"
      ]
    },
    {
      "cell_type": "code",
      "metadata": {
        "id": "FGMI-mI7749f"
      },
      "source": [
        ""
      ],
      "execution_count": null,
      "outputs": []
    },
    {
      "cell_type": "code",
      "metadata": {
        "colab": {
          "base_uri": "https://localhost:8080/"
        },
        "id": "kLsDFLdF7Uk_",
        "outputId": "704f68ae-0b28-4e27-96a7-a6d3a9430e7d"
      },
      "source": [
        "data = ['Chris', 'Emma', 'Harry', 'Thomas', 'Tessa']\n",
        "print(data[1:4])\n",
        "\n",
        "print(data[:3])"
      ],
      "execution_count": null,
      "outputs": [
        {
          "output_type": "stream",
          "name": "stdout",
          "text": [
            "['Emma', 'Harry', 'Thomas']\n"
          ]
        }
      ]
    },
    {
      "cell_type": "code",
      "metadata": {
        "colab": {
          "base_uri": "https://localhost:8080/"
        },
        "id": "Tt06Sy1y8rXj",
        "outputId": "9281dfec-1f57-433f-ef06-5df83f8a42b2"
      },
      "source": [
        "data = ['Chris', 'Emma', 'Harry', 'Thomas', 'Tessa']\n",
        "\n",
        "print(data[:3])"
      ],
      "execution_count": null,
      "outputs": [
        {
          "output_type": "stream",
          "name": "stdout",
          "text": [
            "['Chris', 'Emma', 'Harry']\n"
          ]
        }
      ]
    },
    {
      "cell_type": "code",
      "metadata": {
        "colab": {
          "base_uri": "https://localhost:8080/"
        },
        "id": "NKbpFmOe8ve6",
        "outputId": "ec75fad9-f9a3-44be-f6d8-bf942d162015"
      },
      "source": [
        "data = ['Chris', 'Emma', 'Harry', 'Thomas', 'Tessa']\n",
        "\n",
        "print(data[2:])"
      ],
      "execution_count": null,
      "outputs": [
        {
          "output_type": "stream",
          "name": "stdout",
          "text": [
            "['Harry', 'Thomas', 'Tessa']\n"
          ]
        }
      ]
    },
    {
      "cell_type": "code",
      "metadata": {
        "colab": {
          "base_uri": "https://localhost:8080/"
        },
        "id": "k_PKDlWN8zQs",
        "outputId": "6eeabdff-76a4-4ea1-d543-7e9b5866d0fd"
      },
      "source": [
        "data = ['Chris', 'Emma', 'Harry', 'Thomas', 'Tessa']\n",
        "\n",
        "print(data[:])"
      ],
      "execution_count": null,
      "outputs": [
        {
          "output_type": "stream",
          "name": "stdout",
          "text": [
            "['Chris', 'Emma', 'Harry', 'Thomas', 'Tessa']\n"
          ]
        }
      ]
    },
    {
      "cell_type": "code",
      "metadata": {
        "colab": {
          "base_uri": "https://localhost:8080/"
        },
        "id": "r44MbY3h9BfP",
        "outputId": "cfa7dd64-b998-4735-9d79-c4a87f1aaa7b"
      },
      "source": [
        "data = ['Chris', 'Emma', 'Harry', 'Thomas', 'Tessa', 'Minty']\n",
        "print(data[0:5:2])"
      ],
      "execution_count": null,
      "outputs": [
        {
          "output_type": "stream",
          "name": "stdout",
          "text": [
            "['Chris', 'Harry', 'Tessa']\n"
          ]
        }
      ]
    },
    {
      "cell_type": "markdown",
      "metadata": {
        "id": "0lmHXcE992n0"
      },
      "source": [
        "# Dictionaries"
      ]
    },
    {
      "cell_type": "code",
      "metadata": {
        "id": "h7XvPj_t91ce"
      },
      "source": [
        ""
      ],
      "execution_count": null,
      "outputs": []
    }
  ]
}